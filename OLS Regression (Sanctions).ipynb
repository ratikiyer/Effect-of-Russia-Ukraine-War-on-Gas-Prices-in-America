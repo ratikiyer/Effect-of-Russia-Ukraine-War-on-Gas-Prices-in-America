{
 "cells": [
  {
   "cell_type": "code",
   "execution_count": 1,
   "id": "56df22aa",
   "metadata": {},
   "outputs": [],
   "source": [
    "import sklearn as sk\n",
    "import numpy as np\n",
    "import pandas as pd\n",
    "import matplotlib.pyplot as plt\n",
    "from sklearn.linear_model import LinearRegression\n",
    "import statsmodels.api as sm"
   ]
  },
  {
   "cell_type": "code",
   "execution_count": 2,
   "id": "de79e962",
   "metadata": {},
   "outputs": [
    {
     "data": {
      "text/html": [
       "<div>\n",
       "<style scoped>\n",
       "    .dataframe tbody tr th:only-of-type {\n",
       "        vertical-align: middle;\n",
       "    }\n",
       "\n",
       "    .dataframe tbody tr th {\n",
       "        vertical-align: top;\n",
       "    }\n",
       "\n",
       "    .dataframe thead th {\n",
       "        text-align: right;\n",
       "    }\n",
       "</style>\n",
       "<table border=\"1\" class=\"dataframe\">\n",
       "  <thead>\n",
       "    <tr style=\"text-align: right;\">\n",
       "      <th></th>\n",
       "      <th>Year</th>\n",
       "      <th>State</th>\n",
       "      <th>gasPriceAfterMarch8</th>\n",
       "      <th>gasPriceBeforeMarch8</th>\n",
       "      <th>gasPriceDiff</th>\n",
       "      <th>is2022</th>\n",
       "    </tr>\n",
       "  </thead>\n",
       "  <tbody>\n",
       "    <tr>\n",
       "      <th>0</th>\n",
       "      <td>2004</td>\n",
       "      <td>California</td>\n",
       "      <td>2.144</td>\n",
       "      <td>2.160</td>\n",
       "      <td>-0.016</td>\n",
       "      <td>0</td>\n",
       "    </tr>\n",
       "    <tr>\n",
       "      <th>1</th>\n",
       "      <td>2004</td>\n",
       "      <td>Colorado</td>\n",
       "      <td>1.729</td>\n",
       "      <td>1.718</td>\n",
       "      <td>0.011</td>\n",
       "      <td>0</td>\n",
       "    </tr>\n",
       "    <tr>\n",
       "      <th>2</th>\n",
       "      <td>2004</td>\n",
       "      <td>Florida</td>\n",
       "      <td>1.797</td>\n",
       "      <td>1.795</td>\n",
       "      <td>0.002</td>\n",
       "      <td>0</td>\n",
       "    </tr>\n",
       "    <tr>\n",
       "      <th>3</th>\n",
       "      <td>2004</td>\n",
       "      <td>Massachussettes</td>\n",
       "      <td>1.754</td>\n",
       "      <td>1.750</td>\n",
       "      <td>0.004</td>\n",
       "      <td>0</td>\n",
       "    </tr>\n",
       "    <tr>\n",
       "      <th>4</th>\n",
       "      <td>2004</td>\n",
       "      <td>Minnesota</td>\n",
       "      <td>1.664</td>\n",
       "      <td>1.697</td>\n",
       "      <td>-0.033</td>\n",
       "      <td>0</td>\n",
       "    </tr>\n",
       "  </tbody>\n",
       "</table>\n",
       "</div>"
      ],
      "text/plain": [
       "   Year            State  gasPriceAfterMarch8  gasPriceBeforeMarch8  \\\n",
       "0  2004       California                2.144                 2.160   \n",
       "1  2004         Colorado                1.729                 1.718   \n",
       "2  2004          Florida                1.797                 1.795   \n",
       "3  2004  Massachussettes                1.754                 1.750   \n",
       "4  2004        Minnesota                1.664                 1.697   \n",
       "\n",
       "   gasPriceDiff  is2022  \n",
       "0        -0.016       0  \n",
       "1         0.011       0  \n",
       "2         0.002       0  \n",
       "3         0.004       0  \n",
       "4        -0.033       0  "
      ]
     },
     "execution_count": 2,
     "metadata": {},
     "output_type": "execute_result"
    }
   ],
   "source": [
    "data = pd.read_csv('/Users/sosa/Documents/gasPriceData/gasPriceDiffForSanctions.csv', delimiter = ',')\n",
    "data.head()"
   ]
  },
  {
   "cell_type": "code",
   "execution_count": 3,
   "id": "9a2925be",
   "metadata": {},
   "outputs": [
    {
     "name": "stdout",
     "output_type": "stream",
     "text": [
      "[[2004 'California' 2.144 2.16 -0.016 0]\n",
      " [2004 'Colorado' 1.729 1.718 0.011 0]\n",
      " [2004 'Florida' 1.797 1.795 0.002 0]\n",
      " ...\n",
      " [2022 'Ohio' 4.144 3.919 0.225 1]\n",
      " [2022 'Texas' 4.054 3.84 0.214 1]\n",
      " [2022 'Washington' 4.742 4.383 0.359 1]]\n"
     ]
    }
   ],
   "source": [
    "matrix = np.array(data.values)\n",
    "print(matrix)"
   ]
  },
  {
   "cell_type": "code",
   "execution_count": 4,
   "id": "46d61f05",
   "metadata": {},
   "outputs": [],
   "source": [
    "x = matrix[:,5]\n",
    "y = matrix[:,4]"
   ]
  },
  {
   "cell_type": "code",
   "execution_count": 5,
   "id": "8a78e458",
   "metadata": {},
   "outputs": [],
   "source": [
    "X = data.iloc[:, 5].values.reshape(-1, 1)  # values converts it into a numpy array\n",
    "Y = data.iloc[:, 4].values.reshape(-1, 1)  # -1 means that calculate the dimension of rows, but have 1 column\n",
    "linear_regressor = LinearRegression()  # create object for the class\n",
    "linear_regressor.fit(X, Y)  # perform linear regression\n",
    "Y_pred = linear_regressor.predict(X) "
   ]
  },
  {
   "cell_type": "code",
   "execution_count": 6,
   "id": "2a6c446b",
   "metadata": {},
   "outputs": [
    {
     "data": {
      "image/png": "[encoded data removed]",
      "text/plain": [
       "<Figure size 432x288 with 1 Axes>"
      ]
     },
     "metadata": {
      "needs_background": "light"
     },
     "output_type": "display_data"
    }
   ],
   "source": [
    "plt.scatter(X, Y)\n",
    "plt.plot(X, Y_pred, color='purple')\n",
    "plt.show()"
   ]
  },
  {
   "cell_type": "code",
   "execution_count": 7,
   "id": "2509bb54",
   "metadata": {},
   "outputs": [
    {
     "name": "stdout",
     "output_type": "stream",
     "text": [
      "                            OLS Regression Results                            \n",
      "==============================================================================\n",
      "Dep. Variable:                 is2022   R-squared:                       0.348\n",
      "Model:                            OLS   Adj. R-squared:                  0.344\n",
      "Method:                 Least Squares   F-statistic:                     90.28\n",
      "Date:                Fri, 12 Aug 2022   Prob (F-statistic):           2.02e-17\n",
      "Time:                        12:09:38   Log-Likelihood:                 50.327\n",
      "No. Observations:                 171   AIC:                            -96.65\n",
      "Df Residuals:                     169   BIC:                            -90.37\n",
      "Df Model:                           1                                         \n",
      "Covariance Type:            nonrobust                                         \n",
      "================================================================================\n",
      "                   coef    std err          t      P>|t|      [0.025      0.975]\n",
      "--------------------------------------------------------------------------------\n",
      "const           -0.0158      0.016     -1.014      0.312      -0.047       0.015\n",
      "gasPriceDiff     1.7539      0.185      9.501      0.000       1.389       2.118\n",
      "==============================================================================\n",
      "Omnibus:                      109.114   Durbin-Watson:                   0.513\n",
      "Prob(Omnibus):                  0.000   Jarque-Bera (JB):              652.739\n",
      "Skew:                           2.426   Prob(JB):                    1.82e-142\n",
      "Kurtosis:                      11.250   Cond. No.                         13.3\n",
      "==============================================================================\n",
      "\n",
      "Notes:\n",
      "[1] Standard Errors assume that the covariance matrix of the errors is correctly specified.\n"
     ]
    }
   ],
   "source": [
    "df = pd.DataFrame(data) \n",
    "\n",
    "x = df['is2022']\n",
    "y = df['gasPriceDiff']\n",
    "\n",
    "y = sm.add_constant(y)\n",
    "\n",
    "model = sm.OLS(x, y).fit()\n",
    "predictions = model.predict(y) \n",
    "\n",
    "print_model = model.summary()\n",
    "print(print_model)"
   ]
  }
 ],
 "metadata": {
  "kernelspec": {
   "display_name": "Python 3 (ipykernel)",
   "language": "python",
   "name": "python3"
  },
  "language_info": {
   "codemirror_mode": {
    "name": "ipython",
    "version": 3
   },
   "file_extension": ".py",
   "mimetype": "text/x-python",
   "name": "python",
   "nbconvert_exporter": "python",
   "pygments_lexer": "ipython3",
   "version": "3.9.12"
  }
 },
 "nbformat": 4,
 "nbformat_minor": 5
}
