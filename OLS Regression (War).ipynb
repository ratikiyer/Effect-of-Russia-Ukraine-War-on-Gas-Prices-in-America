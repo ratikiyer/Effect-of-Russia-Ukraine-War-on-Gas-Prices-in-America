{
 "cells": [
  {
   "cell_type": "code",
   "execution_count": 63,
   "id": "693c2691-bc65-4065-995b-6341116db539",
   "metadata": {},
   "outputs": [],
   "source": [
    "import sklearn as sk\n",
    "import numpy as np\n",
    "import pandas as pd\n",
    "import matplotlib.pyplot as plt\n",
    "from sklearn.linear_model import LinearRegression\n",
    "import statsmodels.api as sm"
   ]
  },
  {
   "cell_type": "code",
   "execution_count": 65,
   "id": "fefa7267-9c63-4005-8034-5f60c159a560",
   "metadata": {},
   "outputs": [
    {
     "data": {
      "text/html": [
       "<div>\n",
       "<style scoped>\n",
       "    .dataframe tbody tr th:only-of-type {\n",
       "        vertical-align: middle;\n",
       "    }\n",
       "\n",
       "    .dataframe tbody tr th {\n",
       "        vertical-align: top;\n",
       "    }\n",
       "\n",
       "    .dataframe thead th {\n",
       "        text-align: right;\n",
       "    }\n",
       "</style>\n",
       "<table border=\"1\" class=\"dataframe\">\n",
       "  <thead>\n",
       "    <tr style=\"text-align: right;\">\n",
       "      <th></th>\n",
       "      <th>Year</th>\n",
       "      <th>State</th>\n",
       "      <th>gasPriceAfterFeb24</th>\n",
       "      <th>gasPriceBeforeFeb24</th>\n",
       "      <th>gasPriceDiff</th>\n",
       "      <th>is2022</th>\n",
       "    </tr>\n",
       "  </thead>\n",
       "  <tbody>\n",
       "    <tr>\n",
       "      <th>0</th>\n",
       "      <td>2004</td>\n",
       "      <td>California</td>\n",
       "      <td>2.156</td>\n",
       "      <td>2.075</td>\n",
       "      <td>0.081</td>\n",
       "      <td>0</td>\n",
       "    </tr>\n",
       "    <tr>\n",
       "      <th>1</th>\n",
       "      <td>2004</td>\n",
       "      <td>Colorado</td>\n",
       "      <td>1.631</td>\n",
       "      <td>1.612</td>\n",
       "      <td>0.019</td>\n",
       "      <td>0</td>\n",
       "    </tr>\n",
       "    <tr>\n",
       "      <th>2</th>\n",
       "      <td>2004</td>\n",
       "      <td>Florida</td>\n",
       "      <td>1.749</td>\n",
       "      <td>1.728</td>\n",
       "      <td>0.021</td>\n",
       "      <td>0</td>\n",
       "    </tr>\n",
       "    <tr>\n",
       "      <th>3</th>\n",
       "      <td>2004</td>\n",
       "      <td>Massachussettes</td>\n",
       "      <td>1.729</td>\n",
       "      <td>1.712</td>\n",
       "      <td>0.017</td>\n",
       "      <td>0</td>\n",
       "    </tr>\n",
       "    <tr>\n",
       "      <th>4</th>\n",
       "      <td>2004</td>\n",
       "      <td>Minnesota</td>\n",
       "      <td>1.703</td>\n",
       "      <td>1.660</td>\n",
       "      <td>0.043</td>\n",
       "      <td>0</td>\n",
       "    </tr>\n",
       "  </tbody>\n",
       "</table>\n",
       "</div>"
      ],
      "text/plain": [
       "   Year            State  gasPriceAfterFeb24  gasPriceBeforeFeb24  \\\n",
       "0  2004       California               2.156                2.075   \n",
       "1  2004         Colorado               1.631                1.612   \n",
       "2  2004          Florida               1.749                1.728   \n",
       "3  2004  Massachussettes               1.729                1.712   \n",
       "4  2004        Minnesota               1.703                1.660   \n",
       "\n",
       "   gasPriceDiff  is2022  \n",
       "0         0.081       0  \n",
       "1         0.019       0  \n",
       "2         0.021       0  \n",
       "3         0.017       0  \n",
       "4         0.043       0  "
      ]
     },
     "execution_count": 65,
     "metadata": {},
     "output_type": "execute_result"
    }
   ],
   "source": [
    "data = pd.read_csv('/Users/sosa/Documents/gasPriceData/gasPriceDiff.csv', delimiter = ',')\n",
    "data.head()"
   ]
  },
  {
   "cell_type": "code",
   "execution_count": 66,
   "id": "82c00f14-39be-4247-8fb5-204bc8340347",
   "metadata": {},
   "outputs": [
    {
     "name": "stdout",
     "output_type": "stream",
     "text": [
      "[[2004 'California' 2.156 2.075 0.081 0]\n",
      " [2004 'Colorado' 1.631 1.612 0.019 0]\n",
      " [2004 'Florida' 1.749 1.728 0.021 0]\n",
      " ...\n",
      " [2022 'Ohio' 3.394 3.436 -0.042 1]\n",
      " [2022 'Texas' 3.355 3.273 0.082 1]\n",
      " [2022 'Washington' 3.966 3.947 0.019 1]]\n"
     ]
    }
   ],
   "source": [
    "matrix = np.array(data.values)\n",
    "print(matrix)"
   ]
  },
  {
   "cell_type": "code",
   "execution_count": 6,
   "id": "e681c671-19af-4870-983a-d26410d67441",
   "metadata": {},
   "outputs": [],
   "source": [
    "x = matrix[:,5]\n",
    "y = matrix[:,4]"
   ]
  },
  {
   "cell_type": "code",
   "execution_count": 59,
   "id": "627a7fd3",
   "metadata": {},
   "outputs": [],
   "source": [
    "X = data.iloc[:, 5].values.reshape(-1, 1)  # values converts it into a numpy array\n",
    "Y = data.iloc[:, 4].values.reshape(-1, 1)  # -1 means that calculate the dimension of rows, but have 1 column\n",
    "linear_regressor = LinearRegression()  # create object for the class\n",
    "linear_regressor.fit(X, Y)  # perform linear regression\n",
    "Y_pred = linear_regressor.predict(X) "
   ]
  },
  {
   "cell_type": "code",
   "execution_count": 70,
   "id": "03656f14",
   "metadata": {},
   "outputs": [
    {
     "data": {
      "image/png": "[encoded data removed]",
      "text/plain": [
       "<Figure size 432x288 with 1 Axes>"
      ]
     },
     "metadata": {
      "needs_background": "light"
     },
     "output_type": "display_data"
    }
   ],
   "source": [
    "plt.scatter(X, Y)\n",
    "plt.plot(X, Y_pred, color='purple')\n",
    "plt.show()"
   ]
  },
  {
   "cell_type": "code",
   "execution_count": 71,
   "id": "1c3077ab",
   "metadata": {},
   "outputs": [
    {
     "name": "stdout",
     "output_type": "stream",
     "text": [
      "                            OLS Regression Results                            \n",
      "==============================================================================\n",
      "Dep. Variable:                 is2022   R-squared:                       0.002\n",
      "Model:                            OLS   Adj. R-squared:                 -0.004\n",
      "Method:                 Least Squares   F-statistic:                    0.2848\n",
      "Date:                Tue, 09 Aug 2022   Prob (F-statistic):              0.594\n",
      "Time:                        14:13:20   Log-Likelihood:                 13.878\n",
      "No. Observations:                 171   AIC:                            -23.76\n",
      "Df Residuals:                     169   BIC:                            -17.47\n",
      "Df Model:                           1                                         \n",
      "Covariance Type:            nonrobust                                         \n",
      "================================================================================\n",
      "                   coef    std err          t      P>|t|      [0.025      0.975]\n",
      "--------------------------------------------------------------------------------\n",
      "const            0.0589      0.021      2.829      0.005       0.018       0.100\n",
      "gasPriceDiff    -0.1162      0.218     -0.534      0.594      -0.546       0.314\n",
      "==============================================================================\n",
      "Omnibus:                      166.569   Durbin-Watson:                   0.119\n",
      "Prob(Omnibus):                  0.000   Jarque-Bera (JB):             1851.842\n",
      "Skew:                           3.996   Prob(JB):                         0.00\n",
      "Kurtosis:                      17.001   Cond. No.                         12.7\n",
      "==============================================================================\n",
      "\n",
      "Notes:\n",
      "[1] Standard Errors assume that the covariance matrix of the errors is correctly specified.\n"
     ]
    }
   ],
   "source": [
    "df = pd.DataFrame(data) \n",
    "\n",
    "x = df['is2022']\n",
    "y = df['gasPriceDiff']\n",
    "\n",
    "y = sm.add_constant(y)\n",
    "\n",
    "model = sm.OLS(x, y).fit()\n",
    "predictions = model.predict(y) \n",
    "\n",
    "print_model = model.summary()\n",
    "print(print_model)"
   ]
  }
 ],
 "metadata": {
  "kernelspec": {
   "display_name": "Python 3 (ipykernel)",
   "language": "python",
   "name": "python3"
  },
  "language_info": {
   "codemirror_mode": {
    "name": "ipython",
    "version": 3
   },
   "file_extension": ".py",
   "mimetype": "text/x-python",
   "name": "python",
   "nbconvert_exporter": "python",
   "pygments_lexer": "ipython3",
   "version": "3.9.12"
  }
 },
 "nbformat": 4,
 "nbformat_minor": 5
}
